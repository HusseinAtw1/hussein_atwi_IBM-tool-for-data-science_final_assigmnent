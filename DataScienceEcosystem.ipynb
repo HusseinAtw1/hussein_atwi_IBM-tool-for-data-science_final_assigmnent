{
 "cells": [
  {
   "cell_type": "markdown",
   "id": "5bcb80a3-b4b5-49a6-8951-351d7e92ea9e",
   "metadata": {},
   "source": [
    "<h1>Data Science Tools and Ecosystem</h1>"
   ]
  },
  {
   "cell_type": "markdown",
   "id": "71a48019-a33b-48d6-8447-23f574f86f23",
   "metadata": {},
   "source": [
    "In this notebook, Data Science Tools and Ecosystem are summarized."
   ]
  },
  {
   "cell_type": "markdown",
   "id": "93c1b87e-4c04-4508-bbcd-121864a01dd7",
   "metadata": {},
   "source": [
    "<b>Objectives:</b>\n",
    "<ul>\n",
    "    <li>Introduction to Popular Data Science Languages\n",
    "        <ul>\n",
    "            <li>Python</li>\n",
    "            <li>R</li>\n",
    "            <li>Julia</li>\n",
    "        </ul>\n",
    "    </li>\n",
    "    <li>Introduction to Data Science Libraries:\n",
    "        <ul>\n",
    "            <li>Pandas (Python, julia, R, etc...)</li>\n",
    "            <li>ggplot2 (R)</li>\n",
    "            <li>DataFrames.jl (Julia)</li>\n",
    "        </ul>\n",
    "    </li>\n",
    "    <li>Introduction to Data Science Development Environments:\n",
    "        <ul>\n",
    "            <li>Jupyter Notebooks (Python)</li>\n",
    "            <li>RStudio (R)</li>\n",
    "            <li>JuliaPro or Juno (Julia)</li>\n",
    "        </ul>\n",
    "    </li>\n",
    "</ul>\n"
   ]
  },
  {
   "cell_type": "markdown",
   "id": "67a50425-8162-4855-9d9d-c3f5e116bff6",
   "metadata": {},
   "source": [
    "<h4>Some of the popular languages that Data Scientists use are:</h4>\n",
    "<ol>\n",
    "    <li>Python</li>\n",
    "    <li>R</li>\n",
    "    <li>Julia</li>\n",
    "</ol>"
   ]
  },
  {
   "cell_type": "markdown",
   "id": "6d0a0c66-0e78-405c-be65-6622be874188",
   "metadata": {},
   "source": [
    "<table>\n",
    "    <tr>\n",
    "        <th>Data Science Tools</th>\n",
    "    </tr>\n",
    "    <tr>\n",
    "        <td>GitHub</td>\n",
    "    </tr>\n",
    "    <tr>\n",
    "        <td>Jupyter Notebook</td>\n",
    "    </tr>\n",
    "    <tr>\n",
    "        <td>RStudio</td>\n",
    "    </tr>\n",
    "</table>"
   ]
  },
  {
   "cell_type": "markdown",
   "id": "0a26d884-7b39-4b95-836d-238def232663",
   "metadata": {},
   "source": [
    "<h4>Data Science Tools</h4>\n",
    "<ul>\n",
    "    <li>Jupyter Notebook</li>\n",
    "    <li>RStudio</li>\n",
    "    <li>Visual Studio Code (VS Code)</li>\n",
    "</ul>"
   ]
  },
  {
   "cell_type": "markdown",
   "id": "89671d57-0331-4315-9c79-4cb7069cd3f3",
   "metadata": {},
   "source": [
    "<h3>Below are a few examples of evaluating arithmetic expressions in Python:</h3>"
   ]
  },
  {
   "cell_type": "code",
   "execution_count": 7,
   "id": "841dc3d4-722b-4c2d-a276-0ee7c503fcf8",
   "metadata": {},
   "outputs": [
    {
     "name": "stdout",
     "output_type": "stream",
     "text": [
      "17\n"
     ]
    }
   ],
   "source": [
    "#This a simple arithmetic expression to mutiply then add integers\n",
    "x = (3 * 4) + 5 # store result in x \n",
    "print(x) # use print function to display the value of x"
   ]
  },
  {
   "cell_type": "code",
   "execution_count": 8,
   "id": "33b598eb-f9f1-4a8a-81dc-b2801fbccb07",
   "metadata": {},
   "outputs": [
    {
     "name": "stdout",
     "output_type": "stream",
     "text": [
      "3.3333333333333335\n"
     ]
    }
   ],
   "source": [
    "#This will convert 200 minutes to hours by diving by 60\n",
    "x = 200 # store 200 into x \n",
    "y = 60 # store 60 into y\n",
    "z = x / y # we divide the 200 / 60 and assing it to z inorder to display it later \n",
    "print(z) # use print function to display the value of z which is the equation of dividing 200 / 60"
   ]
  },
  {
   "cell_type": "markdown",
   "id": "00c383b9-5fae-4b18-aa63-a2117fb8cc05",
   "metadata": {},
   "source": [
    "<h2>Author:</h2>\n",
    "<p>Hussein Atwi</p>"
   ]
  }
 ],
 "metadata": {
  "kernelspec": {
   "display_name": "Python 3 (ipykernel)",
   "language": "python",
   "name": "python3"
  },
  "language_info": {
   "codemirror_mode": {
    "name": "ipython",
    "version": 3
   },
   "file_extension": ".py",
   "mimetype": "text/x-python",
   "name": "python",
   "nbconvert_exporter": "python",
   "pygments_lexer": "ipython3",
   "version": "3.12.2"
  }
 },
 "nbformat": 4,
 "nbformat_minor": 5
}
